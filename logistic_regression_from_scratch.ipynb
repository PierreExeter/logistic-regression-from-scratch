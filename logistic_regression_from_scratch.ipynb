{
 "cells": [
  {
   "cell_type": "markdown",
   "metadata": {},
   "source": [
    "# Logistic regression from scratch"
   ]
  },
  {
   "cell_type": "markdown",
   "metadata": {},
   "source": [
    "In this tutorial, I will explain how logistic regression work and I will implement it in plain Numpy.\n",
    "Logistic regression is a supervised learning classification algorithm, which means it can estimate the class of \n",
    "new observation based on labeled observations."
   ]
  },
  {
   "cell_type": "code",
   "execution_count": 1,
   "metadata": {},
   "outputs": [],
   "source": [
    "import numpy as np\n",
    "import matplotlib.pyplot as plt\n",
    "from sklearn.linear_model import LogisticRegression\n",
    "from sklearn.datasets import make_classification\n",
    "%matplotlib inline"
   ]
  },
  {
   "cell_type": "markdown",
   "metadata": {},
   "source": [
    "## Create a dataset"
   ]
  },
  {
   "cell_type": "markdown",
   "metadata": {},
   "source": [
    "Let's apply logistic regression to a binary classification problem with only 10 observations and 2 features."
   ]
  },
  {
   "cell_type": "code",
   "execution_count": 2,
   "metadata": {},
   "outputs": [
    {
     "name": "stdout",
     "output_type": "stream",
     "text": [
      "[[-0.64185521  0.78535215]\n",
      " [ 0.10972634  1.83671408]\n",
      " [-1.07362634  2.591487  ]\n",
      " [-1.38222372  0.85340843]\n",
      " [ 1.78689446  2.3841826 ]\n",
      " [ 0.94785273  3.53015683]\n",
      " [ 1.08876018  1.35925144]\n",
      " [ 0.42774158  3.54015499]\n",
      " [-0.88398194 -0.57876171]\n",
      " [-1.59347411  1.2168913 ]]\n",
      "[1 0 1 1 0 0 0 0 1 1]\n"
     ]
    }
   ],
   "source": [
    "X, y = make_classification(\n",
    "        n_samples=10, \n",
    "        n_features=2,\n",
    "        n_redundant=0,\n",
    "        n_informative=2,\n",
    "        random_state=1, \n",
    "        n_clusters_per_class=1)\n",
    "print(X)\n",
    "print(y)"
   ]
  },
  {
   "cell_type": "code",
   "execution_count": 3,
   "metadata": {},
   "outputs": [
    {
     "data": {
      "text/plain": [
       "Text(0, 0.5, '$X_2$')"
      ]
     },
     "execution_count": 3,
     "metadata": {},
     "output_type": "execute_result"
    },
    {
     "data": {
      "image/png": "[encoded data removed]",
      "text/plain": [
       "<Figure size 432x288 with 1 Axes>"
      ]
     },
     "metadata": {
      "needs_background": "light"
     },
     "output_type": "display_data"
    }
   ],
   "source": [
    "plt.scatter(X[:, 0], X[:, 1], c=y.ravel(), s=40, cmap=plt.cm.Spectral)\n",
    "plt.xlabel(\"$X_1$\")\n",
    "plt.ylabel(\"$X_2$\")\n",
    "# blue dots = 1, red dots = 0"
   ]
  },
  {
   "cell_type": "markdown",
   "metadata": {},
   "source": [
    "We have 10 observations $X$ with 2 features $\\theta$ and we know their labels $y$. Can we predict the label of a new observation? "
   ]
  },
  {
   "cell_type": "markdown",
   "metadata": {},
   "source": [
    "## Logistic regression"
   ]
  },
  {
   "cell_type": "markdown",
   "metadata": {},
   "source": [
    "Logistic regression models the probability that an observation belongs to a particular category. \n",
    "To generate these probabilities, logistic regression uses the **sigmoid** function. This function maps a real number to a values between 0 and 1.\n",
    "\\begin{equation} \n",
    "g(z) = \\frac{1}{1+e^{-z}}\n",
    "\\end{equation}"
   ]
  },
  {
   "cell_type": "markdown",
   "metadata": {},
   "source": [
    "![alt text](images/sigmoid_function.png \"sigmoid function\")"
   ]
  },
  {
   "cell_type": "markdown",
   "metadata": {},
   "source": [
    "We can then define our hypothesis as follows, $h(X) = g(X \\theta)$\n",
    "where \n",
    "- $\\theta$ is the coefficient vector\n",
    "- $X$ is the vector of all the observations (to which we added the intercept i.e. a column of ones)\n",
    "\n",
    "$h(X)$ gives us the probability that our output is 1, which means\n",
    "- if $ X \\theta \\geqslant 0 $, then $h(X) \\geqslant 0.5$, then predict $y = 1$\n",
    "- if $ X \\theta < 0 $, then $h(X) < 0.5$, then predict $y = 0$"
   ]
  },
  {
   "cell_type": "code",
   "execution_count": 4,
   "metadata": {},
   "outputs": [
    {
     "name": "stdout",
     "output_type": "stream",
     "text": [
      "[[ 1.         -0.64185521  0.78535215]\n",
      " [ 1.          0.10972634  1.83671408]\n",
      " [ 1.         -1.07362634  2.591487  ]\n",
      " [ 1.         -1.38222372  0.85340843]\n",
      " [ 1.          1.78689446  2.3841826 ]\n",
      " [ 1.          0.94785273  3.53015683]\n",
      " [ 1.          1.08876018  1.35925144]\n",
      " [ 1.          0.42774158  3.54015499]\n",
      " [ 1.         -0.88398194 -0.57876171]\n",
      " [ 1.         -1.59347411  1.2168913 ]]\n",
      "[0. 0. 0.]\n",
      "[0.5 0.5 0.5 0.5 0.5 0.5 0.5 0.5 0.5 0.5]\n"
     ]
    }
   ],
   "source": [
    "def add_intercept(X):\n",
    "    intercept = np.ones((X.shape[0], 1))\n",
    "    return np.concatenate((intercept, X), axis=1)\n",
    "\n",
    "def sigmoid(z):\n",
    "    return 1 / (1 + np.exp(-z))\n",
    "\n",
    "def calc_h(X, theta):\n",
    "    z = np.dot(X, theta)\n",
    "    h = sigmoid(z)\n",
    "    return h\n",
    "\n",
    "XX = add_intercept(X)\n",
    "theta = np.zeros(XX.shape[1])\n",
    "h = calc_h(XX, theta)\n",
    "\n",
    "print(XX)\n",
    "print(theta)\n",
    "print(h)"
   ]
  },
  {
   "cell_type": "markdown",
   "metadata": {},
   "source": [
    "# Loss function"
   ]
  },
  {
   "cell_type": "markdown",
   "metadata": {},
   "source": [
    "The loss function of logistic regression is defined as follows,\n",
    "\\begin{equation} \n",
    "J(\\theta) = \\frac{1}{m}(-y \\log(h) - (1 - y) \\log(1 - h))\n",
    "\\end{equation}\n",
    "where $m$ is the number of observations.\n",
    "\n",
    "This loss function penalises mis-classified observations. For example,\n",
    "- if $y=0$ and $h\\rightarrow 1$, then $J(\\theta)\\rightarrow ∞$  (strong penalty)\n",
    "- if $y=0$ and $h\\rightarrow 0$, then $J(\\theta)\\rightarrow 0$  (small penalty)\n",
    "- if $y=1$ and $h\\rightarrow 0$, then $J(\\theta)\\rightarrow ∞$  (strong penalty)\n",
    "- if $y=1$ and $h\\rightarrow 1$, then $J(\\theta)\\rightarrow 0$  (small penalty)"
   ]
  },
  {
   "cell_type": "code",
   "execution_count": 5,
   "metadata": {},
   "outputs": [
    {
     "name": "stdout",
     "output_type": "stream",
     "text": [
      "0.6931471805599453\n"
     ]
    }
   ],
   "source": [
    "cost = (-y * np.log(h) - (1 - y) * np.log(1 - h)).mean()\n",
    "print(cost)"
   ]
  },
  {
   "cell_type": "markdown",
   "metadata": {},
   "source": [
    "## Gradiend descent"
   ]
  },
  {
   "cell_type": "markdown",
   "metadata": {},
   "source": [
    "In order to get an accurate prediction, we need to minimise the loss function $J(\\theta)$. This is done by \n",
    "fitting the coefficients $\\theta$. This is done by computing the derivative of the loss function with respect to each coefficient $\\theta$. This gradient is an indication of how much the loss would vary if we change the coefficient. This is known as the method of the *Gradient Descent*.\n",
    "\\begin{equation} \n",
    "\\theta_j := \\theta_j - \\alpha \\frac{\\partial J(\\theta)}{\\partial \\theta_j}\n",
    "\\end{equation}\n",
    "where $\\alpha$ is the learning rate.\n",
    "\n",
    "We can show that\n",
    "\\begin{equation} \n",
    "\\frac{\\partial J(\\theta)}{\\partial \\theta_j} = \\frac{1}{m} X^T (h - y) \n",
    "\\end{equation}"
   ]
  },
  {
   "cell_type": "code",
   "execution_count": 6,
   "metadata": {},
   "outputs": [
    {
     "name": "stdout",
     "output_type": "stream",
     "text": [
      "[0.         0.49680683 0.38910414]\n",
      "[ 0.         -0.00496807 -0.00389104]\n"
     ]
    }
   ],
   "source": [
    "m = y.size\n",
    "alpha = 0.01\n",
    "\n",
    "gradient = np.dot(XX.T, (h - y)) / m\n",
    "theta -= alpha * gradient\n",
    "\n",
    "print(gradient)\n",
    "print(theta)"
   ]
  },
  {
   "cell_type": "markdown",
   "metadata": {},
   "source": [
    "## Training the model"
   ]
  },
  {
   "cell_type": "markdown",
   "metadata": {},
   "source": [
    "We need to repeat these steps in order to fit the coefficients."
   ]
  },
  {
   "cell_type": "code",
   "execution_count": 7,
   "metadata": {},
   "outputs": [
    {
     "name": "stdout",
     "output_type": "stream",
     "text": [
      "Cost: 0.6891798102118079\n",
      "Cost: 0.029018963792119053\n",
      "Cost: 0.01686836306295252\n",
      "Cost: 0.011987504873922989\n",
      "Cost: 0.00931561356220478\n",
      "Cost: 0.007622970166495642\n",
      "Cost: 0.006452771930733887\n",
      "Cost: 0.005594848380972046\n",
      "Cost: 0.00493866575865457\n",
      "Cost: 0.0044204391079739926\n",
      "Adjusted coefficient: [ 0.66203066 -8.49512412 -1.97751376]\n"
     ]
    }
   ],
   "source": [
    "num_iter = 100000\n",
    "cost_list = []\n",
    "\n",
    "for i in range(num_iter):\n",
    "    h = calc_h(XX, theta)\n",
    "    cost = (-y * np.log(h) - (1 - y) * np.log(1 - h)).mean()\n",
    "    cost_list.append(cost)\n",
    "    \n",
    "    gradient = np.dot(XX.T, (h - y)) / m\n",
    "    theta -= alpha * gradient\n",
    "\n",
    "\n",
    "    if i % 10000 == 0:\n",
    "        print('Cost: {}'.format(cost))\n",
    "\n",
    "print('Adjusted coefficient: {}'.format(theta))"
   ]
  },
  {
   "cell_type": "markdown",
   "metadata": {},
   "source": [
    "## Plot the loss function"
   ]
  },
  {
   "cell_type": "code",
   "execution_count": 8,
   "metadata": {},
   "outputs": [
    {
     "data": {
      "text/plain": [
       "[<matplotlib.lines.Line2D at 0x7fe5e34c55f8>]"
      ]
     },
     "execution_count": 8,
     "metadata": {},
     "output_type": "execute_result"
    },
    {
     "data": {
      "image/png": "[encoded data removed]",
      "text/plain": [
       "<Figure size 432x288 with 1 Axes>"
      ]
     },
     "metadata": {
      "needs_background": "light"
     },
     "output_type": "display_data"
    }
   ],
   "source": [
    "plt.plot(range(num_iter), cost_list)"
   ]
  },
  {
   "cell_type": "markdown",
   "metadata": {},
   "source": [
    "The loss fonction is decreasing, which is a good sign."
   ]
  },
  {
   "cell_type": "markdown",
   "metadata": {},
   "source": [
    "## Making predictions"
   ]
  },
  {
   "cell_type": "markdown",
   "metadata": {},
   "source": [
    "We can then calculate the prediction probabilities output by the sigmoid function for each observation."
   ]
  },
  {
   "cell_type": "code",
   "execution_count": 9,
   "metadata": {},
   "outputs": [
    {
     "name": "stdout",
     "output_type": "stream",
     "text": [
      "[9.89662906e-01 1.97968770e-02 9.90602955e-01 9.99977826e-01\n",
      " 4.43999108e-09 5.73774026e-07 1.26852162e-05 4.66685994e-05\n",
      " 9.99910042e-01 9.99992438e-01]\n"
     ]
    }
   ],
   "source": [
    "preds_prob = calc_h(XX, theta)\n",
    "print(preds_prob)"
   ]
  },
  {
   "cell_type": "markdown",
   "metadata": {},
   "source": [
    "As we have seen earlier, the decision boundary of the sigmoid function is defined at 0.5. We can round the probabilities to assign the predicted class to each observation."
   ]
  },
  {
   "cell_type": "code",
   "execution_count": 10,
   "metadata": {},
   "outputs": [
    {
     "name": "stdout",
     "output_type": "stream",
     "text": [
      "[1. 0. 1. 1. 0. 0. 0. 0. 1. 1.]\n"
     ]
    }
   ],
   "source": [
    "preds = preds_prob.round()\n",
    "print(preds)"
   ]
  },
  {
   "cell_type": "markdown",
   "metadata": {},
   "source": [
    "Finally, we can calculate the training accuracy score."
   ]
  },
  {
   "cell_type": "code",
   "execution_count": 11,
   "metadata": {},
   "outputs": [
    {
     "name": "stdout",
     "output_type": "stream",
     "text": [
      "Score Numpy: 1.0\n"
     ]
    }
   ],
   "source": [
    "score_numpy = (preds == y).mean()\n",
    "print('Score Numpy: {}'.format(score_numpy))"
   ]
  },
  {
   "cell_type": "markdown",
   "metadata": {},
   "source": [
    "This training score is not a very good indicator of the accuracy of our model since we trained it using the same labels $y$. Let's see how the model perform on an unseen observation."
   ]
  },
  {
   "cell_type": "code",
   "execution_count": 12,
   "metadata": {},
   "outputs": [
    {
     "name": "stdout",
     "output_type": "stream",
     "text": [
      "[ 1.  -0.8  0.8]\n",
      "predicted output for the new observation:  1.0\n"
     ]
    }
   ],
   "source": [
    "new_x = np.array([1, -0.8, 0.8])   # new observation (-0.8, 0.8)  with an intercept of 1\n",
    "print(new_x)\n",
    "preds_prob_new_x = calc_h(new_x, theta).round()\n",
    "print(\"predicted output for the new observation: \", preds_prob_new_x)"
   ]
  },
  {
   "cell_type": "markdown",
   "metadata": {},
   "source": [
    "## Plot the decision boundary"
   ]
  },
  {
   "cell_type": "code",
   "execution_count": 13,
   "metadata": {},
   "outputs": [
    {
     "data": {
      "text/plain": [
       "(-0.5787617147305777, 3.540154992249955)"
      ]
     },
     "execution_count": 13,
     "metadata": {},
     "output_type": "execute_result"
    },
    {
     "data": {
      "image/png": "[encoded data removed]",
      "text/plain": [
       "<Figure size 720x432 with 1 Axes>"
      ]
     },
     "metadata": {
      "needs_background": "light"
     },
     "output_type": "display_data"
    }
   ],
   "source": [
    "plt.figure(figsize=(10, 6))\n",
    "\n",
    "# define 2d grid\n",
    "x1_min, x1_max = X[:,0].min(), X[:,0].max(),\n",
    "x2_min, x2_max = X[:,1].min(), X[:,1].max(),\n",
    "xx1, xx2 = np.meshgrid(np.linspace(x1_min, x1_max), np.linspace(x2_min, x2_max))\n",
    "grid = np.c_[xx1.ravel(), xx2.ravel()]\n",
    "\n",
    "# make predictions on the grid\n",
    "grid = add_intercept(grid)\n",
    "probs = calc_h(grid, theta)\n",
    "probs = probs.reshape(xx1.shape)\n",
    "\n",
    "# plot contours\n",
    "ax = plt.gca()\n",
    "plt.contourf(xx1, xx2, probs, levels=25, cmap=plt.cm.Spectral, alpha=0.8)\n",
    "plt.contour(xx1, xx2, probs, [0.5], linewidths=2, colors='black') # decision boundary at 0.5\n",
    "plt.scatter(X[:, 0], X[:, 1], c=y.ravel(), s=40, cmap=plt.cm.Spectral, edgecolors='black')\n",
    "plt.plot(-0.8, 0.8, 'bx', markersize=20, markeredgewidth=2)  # new observation correctly classified as 1 (blue)\n",
    "\n",
    "plt.xlabel(\"$X_1$\")\n",
    "plt.ylabel(\"$X_2$\")\n",
    "ax.set_xlim([x1_min, x1_max])\n",
    "ax.set_ylim([x2_min, x2_max])"
   ]
  },
  {
   "cell_type": "markdown",
   "metadata": {},
   "source": [
    "## Sklearn implementation"
   ]
  },
  {
   "cell_type": "markdown",
   "metadata": {},
   "source": [
    "Of course, logistic regression is already implemented in Scikit-learn."
   ]
  },
  {
   "cell_type": "code",
   "execution_count": 14,
   "metadata": {},
   "outputs": [
    {
     "name": "stdout",
     "output_type": "stream",
     "text": [
      "Score Sklearn: 1.0\n",
      "[0.28039163] [[-19.36311726  -4.16377615]]\n"
     ]
    }
   ],
   "source": [
    "model = LogisticRegression(C=1e20, solver='lbfgs')\n",
    "model.fit(X, y)\n",
    "preds = model.predict(X)\n",
    "\n",
    "score_sklearn = (preds == y).mean()\n",
    "print('Score Sklearn: {}'.format(score_sklearn))\n",
    "print(model.intercept_, model.coef_)"
   ]
  },
  {
   "cell_type": "code",
   "execution_count": null,
   "metadata": {},
   "outputs": [],
   "source": []
  }
 ],
 "metadata": {
  "kernelspec": {
   "display_name": "Python 3",
   "language": "python",
   "name": "python3"
  },
  "language_info": {
   "codemirror_mode": {
    "name": "ipython",
    "version": 3
   },
   "file_extension": ".py",
   "mimetype": "text/x-python",
   "name": "python",
   "nbconvert_exporter": "python",
   "pygments_lexer": "ipython3",
   "version": "3.6.8"
  }
 },
 "nbformat": 4,
 "nbformat_minor": 2
}
